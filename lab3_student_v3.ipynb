{
  "nbformat": 4,
  "nbformat_minor": 0,
  "metadata": {
    "colab": {
      "name": "lab3-student_v3.ipynb",
      "provenance": [],
      "collapsed_sections": []
    },
    "kernelspec": {
      "name": "python3",
      "display_name": "Python 3"
    },
    "language_info": {
      "codemirror_mode": {
        "name": "ipython",
        "version": 3
      },
      "file_extension": ".py",
      "mimetype": "text/x-python",
      "name": "python",
      "nbconvert_exporter": "python",
      "pygments_lexer": "ipython3",
      "version": "3.7.4"
    }
  },
  "cells": [
    {
      "cell_type": "markdown",
      "metadata": {
        "colab_type": "text",
        "id": "fs1IGQZELwru"
      },
      "source": [
        "# LAB3 - Uczenie sieci neuronowych z wykorzystaniem GPU"
      ]
    },
    {
      "cell_type": "markdown",
      "metadata": {
        "colab_type": "text",
        "id": "yS56lpyELwry"
      },
      "source": [
        "Przedmiot: _Sztuczna Inteligencja w Systemach Informatycznych_\n",
        "\n",
        "Autor: Tomasz Szydło\n",
        "\n",
        "kontakt: tszydlo@agh.edu.pl"
      ]
    },
    {
      "cell_type": "markdown",
      "metadata": {
        "colab_type": "text",
        "id": "AZ_S41L3Lwr6"
      },
      "source": [
        "Celem laboratorium jest porównanie czasu uczenia sieci neuronowych z wykorzystaniem CPU oraz GPU. Przedmiotem uczenia będzie sieć rozpoznająca cyfry pisane odręcznie. W procesie uczenia zostanie wykorzystany zbiór MNIST:\n",
        "\n",
        "http://yann.lecun.com/exdb/mnist/\n",
        "\n",
        "\n",
        "Laboratorium może być zrealizowane w dwóch środowiskach pracy:\n",
        " * Google Colab w chmurze obliczeniowej;\n",
        " * lokalnie na komputerze wyposażonym w GPU.\n"
      ]
    },
    {
      "cell_type": "markdown",
      "metadata": {
        "colab_type": "text",
        "id": "IpmQdcI4FZ1L"
      },
      "source": [
        "## Środowisko pracy - Google Codelab\n",
        "\n",
        "https://codelabs.developers.google.com/?cat=Machine+Learning\n",
        "\n",
        "Dostęp do notatnika: https://colab.research.google.com\n",
        "\n",
        "Włączenie/wyłączenie wsparcia GPU odbywa się poprzez zmianę opcji środowiska uruchomieniowego:\n",
        " * Runtime -> Change runtime type -> Hardware accelerator -> None/GPU\n"
      ]
    },
    {
      "cell_type": "markdown",
      "metadata": {
        "colab_type": "text",
        "id": "e1Q7W6I1FsVO"
      },
      "source": [
        "## Środowisko pracy - PC + GPU/CUDA + Anaconda\n",
        "\n",
        "Realizacja laboratorium wymaga Anacondy ze środowiskami:\n",
        " * tensorflow\n",
        " * tensorflow_gpuenv\n",
        " \n",
        "Różnica pomiędzy nimi polega na wykorzystaniu implementacji biblioteki Tensorflow z NVidia CUDA.\n",
        "\n",
        "Tworzenie środowisk:\n",
        " * wersja z CPU:\n",
        "\n",
        "```\n",
        "conda create -n tensorflow_env tensorflow\n",
        "conda activate tensorflow_env\n",
        "```\n",
        "\n",
        " * wersja z GPU:\n",
        "\n",
        "```\n",
        "conda create -n tensorflow_gpuenv tensorflow-gpu\n",
        "conda activate tensorflow_gpuenv\n",
        "```\n",
        "\n",
        "Za pomocą Anaconda Navigator uruchamiamy Jupyter Notebook w konkretnym środowisku - tylko CPU lub ze wsparciem GPU.\n"
      ]
    },
    {
      "cell_type": "markdown",
      "metadata": {
        "colab_type": "text",
        "id": "F25OBqfZLwsA"
      },
      "source": [
        "## Sieć neuronowa dla zbioru MNIST"
      ]
    },
    {
      "cell_type": "markdown",
      "metadata": {
        "colab_type": "text",
        "id": "aTQZi3VcLwsC"
      },
      "source": [
        "Przygotowanie środowiska - należy uruchomić notatnik z obliczeniami wyłącznie na CPU."
      ]
    },
    {
      "cell_type": "code",
      "metadata": {
        "colab_type": "code",
        "id": "Qs9wYVcZNY05",
        "colab": {}
      },
      "source": [
        "try:\n",
        "  %tensorflow_version 2.x\n",
        "except:\n",
        "  pass"
      ],
      "execution_count": 0,
      "outputs": []
    },
    {
      "cell_type": "code",
      "metadata": {
        "colab_type": "code",
        "id": "y3MzdLevLwsD",
        "colab": {}
      },
      "source": [
        "import numpy as np\n",
        "import matplotlib.pyplot as plt\n",
        "\n",
        "from tensorflow.keras.datasets import mnist\n",
        "from tensorflow.keras.callbacks import Callback\n",
        "from tensorflow.keras.models import Sequential\n",
        "from tensorflow.keras.layers import Dense, Dropout, Activation\n",
        "from keras.utils import np_utils\n",
        "\n",
        "plt.rcParams['figure.figsize'] = (7,7) # Make the figures a bit bigger"
      ],
      "execution_count": 0,
      "outputs": []
    },
    {
      "cell_type": "code",
      "metadata": {
        "colab_type": "code",
        "id": "6aDH7dBMLwsY",
        "colab": {
          "base_uri": "https://localhost:8080/",
          "height": 51
        },
        "outputId": "114d6ed4-495a-4a94-bd6d-311f718499ad"
      },
      "source": [
        "nb_classes = 10\n",
        "\n",
        "# the data, shuffled and split between tran and test sets\n",
        "(X_train, y_train), (X_test, y_test) = mnist.load_data()\n",
        "print(\"X_train original shape\", X_train.shape)\n",
        "print(\"y_train original shape\", y_train.shape)"
      ],
      "execution_count": 37,
      "outputs": [
        {
          "output_type": "stream",
          "text": [
            "X_train original shape (60000, 28, 28)\n",
            "y_train original shape (60000,)\n"
          ],
          "name": "stdout"
        }
      ]
    },
    {
      "cell_type": "markdown",
      "metadata": {
        "colab_type": "text",
        "id": "e1Fb4X4sLwsh"
      },
      "source": [
        "Zwizualizuj przykładowe dane."
      ]
    },
    {
      "cell_type": "code",
      "metadata": {
        "colab_type": "code",
        "id": "q741OgE6Lwsi",
        "colab": {
          "base_uri": "https://localhost:8080/",
          "height": 444
        },
        "outputId": "82ddd72c-2da9-4fe9-9911-73de421f7c86"
      },
      "source": [
        "for i in range(9):\n",
        "    plt.subplot(3,3,i+1)\n",
        "    plt.imshow(X_train[i], cmap='gray', interpolation='none')\n",
        "    plt.title(\"Class {}\".format(y_train[i]))"
      ],
      "execution_count": 38,
      "outputs": [
        {
          "output_type": "display_data",
          "data": {
            "image/png": "[encoded data removed]",
            "text/plain": [
              "<Figure size 504x504 with 9 Axes>"
            ]
          },
          "metadata": {
            "tags": []
          }
        }
      ]
    },
    {
      "cell_type": "markdown",
      "metadata": {
        "colab_type": "text",
        "id": "NuFEHgMhLwsp"
      },
      "source": [
        "Sieć neuronowa przyjmuje na wejściu jeden wektor dla każdego przykładu treningowego, więc konieczne jest przekształcenie danych wejściowych, aby każdy obraz 28 x 28 stał się pojedynczym wektorem 784 wymiarowym. \n",
        "\n",
        "Skalujemy również dane wejściowe w zakresie [0–1] zamiast [0–255]"
      ]
    },
    {
      "cell_type": "code",
      "metadata": {
        "colab_type": "code",
        "id": "2XwmB8dSLwsq",
        "colab": {
          "base_uri": "https://localhost:8080/",
          "height": 51
        },
        "outputId": "a2aaa15c-c14b-46d9-d856-db8f4a2496af"
      },
      "source": [
        "X_train = X_train.reshape(60000, 784)\n",
        "X_test = X_test.reshape(10000, 784)\n",
        "X_train = X_train.astype('float32')\n",
        "X_test = X_test.astype('float32')\n",
        "X_train /= 255\n",
        "X_test /= 255\n",
        "print(\"Training matrix shape\", X_train.shape)\n",
        "print(\"Testing matrix shape\", X_test.shape)"
      ],
      "execution_count": 39,
      "outputs": [
        {
          "output_type": "stream",
          "text": [
            "Training matrix shape (60000, 784)\n",
            "Testing matrix shape (10000, 784)\n"
          ],
          "name": "stdout"
        }
      ]
    },
    {
      "cell_type": "markdown",
      "metadata": {
        "colab_type": "text",
        "id": "hU9F52b4Lwsy"
      },
      "source": [
        "Zmodyfikuj macierze wyjść korzystając z techniki One Hot Encoding, tj.\n",
        "\n",
        "```\n",
        "0 -> [1, 0, 0, 0, 0, 0, 0, 0, 0]\n",
        "1 -> [0, 1, 0, 0, 0, 0, 0, 0, 0]\n",
        "2 -> [0, 0, 1, 0, 0, 0, 0, 0, 0]\n",
        "```\n",
        "itp."
      ]
    },
    {
      "cell_type": "code",
      "metadata": {
        "colab_type": "code",
        "id": "mOEeudBmLwsz",
        "colab": {}
      },
      "source": [
        "Y_train = np_utils.to_categorical(y_train, num_classes=10)\n",
        "Y_test = np_utils.to_categorical(y_test, num_classes=10)"
      ],
      "execution_count": 0,
      "outputs": []
    },
    {
      "cell_type": "markdown",
      "metadata": {
        "colab_type": "text",
        "id": "AM5Kq1eaLws4"
      },
      "source": [
        "Zbuduj sieć neuronową. Na potrzeby zajęć sieć będzie posiadała 3 w pełni połączone warstwy."
      ]
    },
    {
      "cell_type": "code",
      "metadata": {
        "colab_type": "code",
        "id": "wKreY86SLws5",
        "colab": {}
      },
      "source": [
        "model = Sequential()\n",
        "model.add(Dense(512, input_shape=(784,)))\n",
        "model.add(Activation('relu'))\n",
        "                           \n",
        "model.add(Dropout(0.2))   # Dropout helps protect the model from memorizing or \"overfitting\" the training data\n",
        "model.add(Dense(512))\n",
        "model.add(Activation('relu'))\n",
        "model.add(Dropout(0.2))\n",
        "model.add(Dense(10))\n",
        "model.add(Activation('softmax')) # w celu zapewnienia rozkładu wyjść sumującego się do 1"
      ],
      "execution_count": 0,
      "outputs": []
    },
    {
      "cell_type": "markdown",
      "metadata": {
        "colab_type": "text",
        "id": "aWGpp5O1Lws-"
      },
      "source": [
        "Kolejnym krokiem jest kompilacja modelu. Biblioteka Keras jest wysokopoziomowym API upraszczającym tworzenie i uczenie sieci neuronowych z wykorzystaniem biblitoeki Tensorflow. Podczas kompilacji sieci, biblioteka Keras wymaga określenia funkcji strat oraz algorytmu optymalizującego proces uczenia."
      ]
    },
    {
      "cell_type": "code",
      "metadata": {
        "colab_type": "code",
        "id": "Cpn0-puHLws-",
        "colab": {}
      },
      "source": [
        "model.compile(loss='categorical_crossentropy', optimizer='adam')"
      ],
      "execution_count": 0,
      "outputs": []
    },
    {
      "cell_type": "code",
      "metadata": {
        "colab_type": "code",
        "id": "MZH1a31GLwtF",
        "colab": {}
      },
      "source": [
        "from time import time\n",
        "class TimingCallback(Callback):\n",
        "  def __init__(self):\n",
        "    self.logs=[]\n",
        "  def on_epoch_begin(self, epoch, logs={}):\n",
        "    self.starttime=time()\n",
        "  def on_epoch_end(self, epoch, logs={}):\n",
        "    self.logs.append(time()-self.starttime)"
      ],
      "execution_count": 0,
      "outputs": []
    },
    {
      "cell_type": "markdown",
      "metadata": {
        "colab_type": "text",
        "id": "oN0iPEysLwtK"
      },
      "source": [
        "Po kompilacji modelu sieci neuronowej można przystąpić do uczenia sieci. Ze względu na fakt, że Jupyter notebook został uruchiomy w środowisku z biblioteką Tensorflow bez wsparcia dla GPU, to obliczenia będa wykonywane tylko i wyłącznie na CPU."
      ]
    },
    {
      "cell_type": "code",
      "metadata": {
        "colab_type": "code",
        "id": "97euA1BoLwtK",
        "colab": {
          "base_uri": "https://localhost:8080/",
          "height": 598
        },
        "outputId": "562c9e91-4f06-43be-9888-0325992de65c"
      },
      "source": [
        "cb = TimingCallback()\n",
        "model.fit(X_train, Y_train,\n",
        "          batch_size=128, epochs=16,\n",
        "          verbose=1,\n",
        "          validation_data=(X_test, Y_test),\n",
        "          callbacks=[cb])\n",
        "print(cb.logs)"
      ],
      "execution_count": 44,
      "outputs": [
        {
          "output_type": "stream",
          "text": [
            "Epoch 1/16\n",
            "469/469 [==============================] - 7s 15ms/step - loss: 0.2445 - val_loss: 0.1105\n",
            "Epoch 2/16\n",
            "469/469 [==============================] - 7s 15ms/step - loss: 0.1032 - val_loss: 0.0809\n",
            "Epoch 3/16\n",
            "469/469 [==============================] - 7s 15ms/step - loss: 0.0710 - val_loss: 0.0700\n",
            "Epoch 4/16\n",
            "469/469 [==============================] - 7s 15ms/step - loss: 0.0565 - val_loss: 0.0658\n",
            "Epoch 5/16\n",
            "469/469 [==============================] - 7s 15ms/step - loss: 0.0438 - val_loss: 0.0676\n",
            "Epoch 6/16\n",
            "469/469 [==============================] - 7s 15ms/step - loss: 0.0406 - val_loss: 0.0621\n",
            "Epoch 7/16\n",
            "469/469 [==============================] - 7s 15ms/step - loss: 0.0344 - val_loss: 0.0700\n",
            "Epoch 8/16\n",
            "469/469 [==============================] - 7s 15ms/step - loss: 0.0316 - val_loss: 0.0674\n",
            "Epoch 9/16\n",
            "469/469 [==============================] - 7s 15ms/step - loss: 0.0279 - val_loss: 0.0750\n",
            "Epoch 10/16\n",
            "469/469 [==============================] - 7s 15ms/step - loss: 0.0264 - val_loss: 0.0723\n",
            "Epoch 11/16\n",
            "469/469 [==============================] - 7s 15ms/step - loss: 0.0235 - val_loss: 0.0682\n",
            "Epoch 12/16\n",
            "469/469 [==============================] - 7s 15ms/step - loss: 0.0226 - val_loss: 0.0691\n",
            "Epoch 13/16\n",
            "469/469 [==============================] - 7s 15ms/step - loss: 0.0207 - val_loss: 0.0709\n",
            "Epoch 14/16\n",
            "469/469 [==============================] - 7s 15ms/step - loss: 0.0191 - val_loss: 0.0752\n",
            "Epoch 15/16\n",
            "469/469 [==============================] - 7s 15ms/step - loss: 0.0186 - val_loss: 0.0866\n",
            "Epoch 16/16\n",
            "469/469 [==============================] - 7s 15ms/step - loss: 0.0175 - val_loss: 0.0766\n",
            "[7.268893718719482, 6.95553183555603, 6.989343166351318, 7.07723331451416, 6.955023288726807, 6.8756630420684814, 6.902428388595581, 6.928835153579712, 6.825585126876831, 6.952507495880127, 6.943229675292969, 6.84466290473938, 7.041868209838867, 6.9099955558776855, 6.8582847118377686, 6.961688041687012]\n"
          ],
          "name": "stdout"
        }
      ]
    },
    {
      "cell_type": "markdown",
      "metadata": {
        "colab_type": "text",
        "id": "QwwGeJ6PLwtp"
      },
      "source": [
        "## Ewaluacja sieci neuronowej dla zbioru MNIST"
      ]
    },
    {
      "cell_type": "code",
      "metadata": {
        "colab_type": "code",
        "id": "W8ZNIBBdLwtr",
        "colab": {
          "base_uri": "https://localhost:8080/",
          "height": 888
        },
        "outputId": "47fd5946-8b97-4ff2-94d2-ec5ccd72bd2a"
      },
      "source": [
        "score = model.evaluate(X_test, Y_test,verbose=0)\n",
        "print('Test score:', score)\n",
        "\n",
        "predicted_classes = np.argmax(model.predict(X_test), axis=-1)\n",
        "correct_indices = np.nonzero(predicted_classes == y_test)[0]\n",
        "incorrect_indices = np.nonzero(predicted_classes != y_test)[0]\n",
        "\n",
        "plt.figure()\n",
        "for i, correct in enumerate(correct_indices[:9]):\n",
        "    plt.subplot(3,3,i+1)\n",
        "    plt.imshow(X_test[correct].reshape(28,28), cmap='gray', interpolation='none')\n",
        "    plt.title(\"Predicted {}, Class {}\".format(predicted_classes[correct], y_test[correct]))\n",
        "    \n",
        "plt.figure()\n",
        "for i, incorrect in enumerate(incorrect_indices[:9]):\n",
        "    plt.subplot(3,3,i+1)\n",
        "    plt.imshow(X_test[incorrect].reshape(28,28), cmap='gray', interpolation='none')\n",
        "    plt.title(\"Predicted {}, Class {}\".format(predicted_classes[incorrect], y_test[incorrect]))"
      ],
      "execution_count": 45,
      "outputs": [
        {
          "output_type": "stream",
          "text": [
            "Test score: 0.07729221880435944\n"
          ],
          "name": "stdout"
        },
        {
          "output_type": "display_data",
          "data": {
            "image/png": "[encoded data removed]",
            "text/plain": [
              "<Figure size 504x504 with 9 Axes>"
            ]
          },
          "metadata": {
            "tags": []
          }
        },
        {
          "output_type": "display_data",
          "data": {
            "image/png": "[encoded data removed]",
            "text/plain": [
              "<Figure size 504x504 with 9 Axes>"
            ]
          },
          "metadata": {
            "tags": []
          }
        }
      ]
    },
    {
      "cell_type": "markdown",
      "metadata": {
        "colab_type": "text",
        "id": "XT0BYxGwLwtS"
      },
      "source": [
        "## Analiza czasu uczenia sieci z wykorzystaniem CPU oraz przy wsparciu GPU"
      ]
    },
    {
      "cell_type": "markdown",
      "metadata": {
        "colab_type": "text",
        "id": "jv7kWHYwLwtS"
      },
      "source": [
        "Uzupełnij poniższy fragment kodu wpisując dane dotyczące czasu obliczeń dla każdej z szesnastu epok uczenia sieci neuronowej."
      ]
    },
    {
      "cell_type": "code",
      "metadata": {
        "colab_type": "code",
        "id": "PBhpuE6SLwtT",
        "colab": {
          "base_uri": "https://localhost:8080/",
          "height": 34
        },
        "outputId": "1509709d-0dca-438f-85ed-2566f5714b14"
      },
      "source": [
        "cpu_epoch_time = cb.logs\n",
        "cpu_score = sum(cpu_epoch_time)/16\n",
        "print(cpu_score)"
      ],
      "execution_count": 46,
      "outputs": [
        {
          "output_type": "stream",
          "text": [
            "6.955673351883888\n"
          ],
          "name": "stdout"
        }
      ]
    },
    {
      "cell_type": "markdown",
      "metadata": {
        "colab_type": "text",
        "id": "rCnXpfgpLwtd"
      },
      "source": [
        "Uaktywnij wsparcie GPU dla obliczeń i uruchom ponownie proces uczenia sieci neuronowej na bazie MNIST i uzupełnij fragment kodu poniżej.\n",
        "\n",
        "W przypadku środowiska Anaconda zamknij środowisko *tensorflow\\_env* i uruchom środowisko *tensorflow\\_gpuenv*. W przypadku Google Colab zmień ustawienia środowiska uruchomieniowego.\n",
        "\n"
      ]
    },
    {
      "cell_type": "code",
      "metadata": {
        "colab_type": "code",
        "id": "r19aSv6jLwte",
        "colab": {
          "base_uri": "https://localhost:8080/",
          "height": 71
        },
        "outputId": "2c8ffa96-1d3b-4d85-af0e-c36c6f59c274"
      },
      "source": [
        "gpu_epoch_time = cb.logs\n",
        "print(gpu_epoch_time)\n",
        "gpu_score = sum(gpu_epoch_time)/16\n",
        "print(gpu_score)"
      ],
      "execution_count": 47,
      "outputs": [
        {
          "output_type": "stream",
          "text": [
            "[7.268893718719482, 6.95553183555603, 6.989343166351318, 7.07723331451416, 6.955023288726807, 6.8756630420684814, 6.902428388595581, 6.928835153579712, 6.825585126876831, 6.952507495880127, 6.943229675292969, 6.84466290473938, 7.041868209838867, 6.9099955558776855, 6.8582847118377686, 6.961688041687012]\n",
            "6.955673351883888\n"
          ],
          "name": "stdout"
        }
      ]
    },
    {
      "cell_type": "markdown",
      "metadata": {
        "colab_type": "text",
        "id": "FgGmLKKDLwtj"
      },
      "source": [
        "Zwizualizuj i przeanalizuj czas uczenia sieci neuronowej z CPU i GPU."
      ]
    },
    {
      "cell_type": "code",
      "metadata": {
        "colab_type": "code",
        "id": "H8AOGoRtLwtj",
        "colab": {
          "base_uri": "https://localhost:8080/",
          "height": 564
        },
        "outputId": "19d5466f-e27c-4728-d884-d80479a68b2f"
      },
      "source": [
        "#TODO przedstaw czas obliczeń gpu_epoch_time, cpu_epoch_time na wykresie pudełkowym\n",
        "cpu = [7.268893718719482, 6.95553183555603, 6.989343166351318, 7.07723331451416, 6.955023288726807, 6.8756630420684814, 6.902428388595581, 6.928835153579712, 6.825585126876831, 6.952507495880127, 6.943229675292969, 6.84466290473938, 7.041868209838867, 6.9099955558776855, 6.8582847118377686, 6.961688041687012]\n",
        "gpu = [3.269700288772583, 1.169179916381836, 1.1496820449829102, 1.1813890933990479, 1.1765873432159424, 1.2046337127685547, 1.175978660583496, 1.1880884170532227, 1.1729881763458252, 1.1645348072052002, 1.1626954078674316, 1.1435003280639648, 1.2020297050476074, 1.1326234340667725, 1.157735824584961, 1.1583926677703857]\n",
        "plt.boxplot(cpu, positions=[1], widths = 0.6)\n",
        "plt.boxplot(gpu, positions=[2], widths = 0.6)\n"
      ],
      "execution_count": 55,
      "outputs": [
        {
          "output_type": "execute_result",
          "data": {
            "text/plain": [
              "{'boxes': [<matplotlib.lines.Line2D at 0x7f98a8d5c278>],\n",
              " 'caps': [<matplotlib.lines.Line2D at 0x7f98a8cf65f8>,\n",
              "  <matplotlib.lines.Line2D at 0x7f98a8cf6978>],\n",
              " 'fliers': [<matplotlib.lines.Line2D at 0x7f98a8cff0b8>],\n",
              " 'means': [],\n",
              " 'medians': [<matplotlib.lines.Line2D at 0x7f98a8cf6cf8>],\n",
              " 'whiskers': [<matplotlib.lines.Line2D at 0x7f98a8d6aeb8>,\n",
              "  <matplotlib.lines.Line2D at 0x7f98a8cf6278>]}"
            ]
          },
          "metadata": {
            "tags": []
          },
          "execution_count": 55
        },
        {
          "output_type": "display_data",
          "data": {
            "image/png": "[encoded data removed]",
            "text/plain": [
              "<Figure size 504x504 with 1 Axes>"
            ]
          },
          "metadata": {
            "tags": []
          }
        }
      ]
    },
    {
      "cell_type": "markdown",
      "metadata": {
        "colab_type": "text",
        "id": "t23eG5H2PXiu"
      },
      "source": [
        "**Wnioski**\n",
        "Test score: 0,07. Jest dość bliskie do 0, co jest dobrym wynikiem. Z GPU o wiele razy szybciej. Nie korzystałam z własnej GPU\n",
        "\n",
        "*#TODO W przypadku korzystania z własnej karty GPU podaj specyfikację techniczą komputera i karty graficznej.*\n",
        "\n"
      ]
    },
    {
      "cell_type": "code",
      "metadata": {
        "id": "rqonwTrhEyIc",
        "colab_type": "code",
        "colab": {}
      },
      "source": [
        ""
      ],
      "execution_count": 0,
      "outputs": []
    }
  ]
}